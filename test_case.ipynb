{
 "cells": [
  {
   "cell_type": "code",
   "execution_count": 1,
   "metadata": {},
   "outputs": [],
   "source": [
    "import json\n",
    "data_v_j = 'Values.json'\n",
    "data_r_j = 'TestcaseStructure.json'\n",
    "data_result = 'StructureWithValues.json'"
   ]
  },
  {
   "cell_type": "code",
   "execution_count": 2,
   "metadata": {},
   "outputs": [],
   "source": [
    "# read data with values wich we should input to the json file\n",
    "def data_v(data_v_j):\n",
    "    with open('Values.json') as data_values: \n",
    "        try:\n",
    "            return json.load(data_values)\n",
    "        except ValueError:\n",
    "            x = {'error': {'message': 'Входные файлы некорректны'}}    \n",
    "            error = json.dumps(x, ensure_ascii=False )\n",
    "            return error\n",
    "               "
   ]
  },
  {
   "cell_type": "code",
   "execution_count": 3,
   "metadata": {},
   "outputs": [],
   "source": [
    "# read json file\n",
    "def data_r(data_r_j):\n",
    "    with open('TestcaseStructure.json', 'r') as data_test:\n",
    "        data_t = data_test.read()\n",
    "        data_t = data_t.replace('\\t','')\n",
    "        data_t = data_t.replace('\\n','')\n",
    "        data_t = data_t.replace(',}','}')\n",
    "        data_t = data_t.replace(',]',']')\n",
    "        \n",
    "        try:\n",
    "            return json.loads(data_t)  \n",
    "        except ValueError:\n",
    "            x = {'error': {'message': 'Входные файлы некорректны'}}    \n",
    "            error = json.dumps(x, ensure_ascii=False )\n",
    "            return error\n",
    "            "
   ]
  },
  {
   "cell_type": "code",
   "execution_count": 4,
   "metadata": {},
   "outputs": [],
   "source": [
    "data_v = data_v(data_v_j)\n",
    "data_r = data_r(data_r_j)"
   ]
  },
  {
   "cell_type": "code",
   "execution_count": 5,
   "metadata": {},
   "outputs": [],
   "source": [
    "# inplace the existed values from Values.json to TestcaseStructure.json\n",
    "for i in data_v['values']:\n",
    "    for j in data_r['params']:\n",
    "        if i['id']==j['id']:\n",
    "            j['value'] = i['value']        "
   ]
  },
  {
   "cell_type": "code",
   "execution_count": 7,
   "metadata": {},
   "outputs": [
    {
     "name": "stdout",
     "output_type": "stream",
     "text": [
      "Value from result json: 298 Value from value json: 298 True\n",
      "Value from result json: Валидация параметров на подаче объявления Value from value json: Валидация параметров на подаче объявления True\n",
      "Value from result json: 354 Value from value json: 354 True\n",
      "Value from result json: 646 Value from value json: 646 True\n",
      "Value from result json: 877 Value from value json: 877 True\n",
      "Value from result json: 3627 Value from value json: 3627 True\n"
     ]
    }
   ],
   "source": [
    "# check the result \n",
    "for h in range(len(data_r['params'])):\n",
    "    for q in range(len(data_v['values'])):\n",
    "        if data_r['params'][h]['id'] == data_v['values'][q]['id']:\n",
    "            print('Value from result json:',data_r['params'][h]['value'], 'Value from value json:', data_v['values'][q]['value'], data_r['params'][h]['value']==data_v['values'][q]['value'])"
   ]
  },
  {
   "cell_type": "code",
   "execution_count": null,
   "metadata": {},
   "outputs": [],
   "source": []
  }
 ],
 "metadata": {
  "kernelspec": {
   "display_name": "Python 3",
   "language": "python",
   "name": "python3"
  },
  "language_info": {
   "codemirror_mode": {
    "name": "ipython",
    "version": 3
   },
   "file_extension": ".py",
   "mimetype": "text/x-python",
   "name": "python",
   "nbconvert_exporter": "python",
   "pygments_lexer": "ipython3",
   "version": "3.5.2"
  }
 },
 "nbformat": 4,
 "nbformat_minor": 2
}
