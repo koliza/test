{
 "cells": [
  {
   "cell_type": "code",
   "execution_count": 1,
   "metadata": {},
   "outputs": [],
   "source": [
    "import json\n",
    "data_v_j = 'Value.json'\n",
    "data_r_j = 'TestcaseStructure.json'"
   ]
  },
  {
   "cell_type": "code",
   "execution_count": 2,
   "metadata": {},
   "outputs": [],
   "source": [
    "# read data with values wich we should input to the json file\n",
    "def data_v(data_v_j):\n",
    "    with open('Values.json') as data_values: \n",
    "        try:\n",
    "            return json.load(data_values)\n",
    "        except ValueError:\n",
    "            x = {'error': {'message': 'Входные файлы некорректны'}}    \n",
    "            error = json.dumps(x, ensure_ascii=False )\n",
    "            return error\n",
    "               "
   ]
  },
  {
   "cell_type": "code",
   "execution_count": 3,
   "metadata": {},
   "outputs": [],
   "source": [
    "# read json file\n",
    "def data_r(data_r_j):\n",
    "    with open('TestcaseStructure.json', 'r') as data_test:\n",
    "        data_t = data_test.read()\n",
    "        data_t = data_t.replace('\\t','')\n",
    "        data_t = data_t.replace('\\n','')\n",
    "        data_t = data_t.replace(',}','}')\n",
    "        data_t = data_t.replace(',]',']')\n",
    "        try:\n",
    "            return json.loads(data_t)  \n",
    "        except ValueError:\n",
    "            x = {'error': {'message': 'Входные файлы некорректны'}}    \n",
    "            error = json.dumps(x, ensure_ascii=False )\n",
    "            return error\n",
    "            "
   ]
  },
  {
   "cell_type": "code",
   "execution_count": 4,
   "metadata": {},
   "outputs": [],
   "source": [
    "data_v = data_v(data_v_j)\n",
    "data_r = data_r(data_r_j)"
   ]
  },
  {
   "cell_type": "code",
   "execution_count": 5,
   "metadata": {},
   "outputs": [],
   "source": [
    "def fill_data(data_v,data_r):\n",
    "    \"    function fill existed json file with values from another file\"\n",
    "     \n",
    "    for i in data_v['values']:\n",
    "        for j in data_r['params']:\n",
    "            if i['id']==j['id']:\n",
    "                j['value'] = i['value']\n",
    "            if i['id'] != j['id']:\n",
    "                j['value'] = ''\n",
    "        return data_r\n",
    "        \n",
    "        \n",
    "            \n",
    "    "
   ]
  },
  {
   "cell_type": "code",
   "execution_count": 6,
   "metadata": {},
   "outputs": [
    {
     "data": {
      "text/plain": [
       "{'params': [{'id': 34, 'title': 'testcaseId', 'value': 298},\n",
       "  {'id': 146, 'title': 'Testcase name', 'value': ''},\n",
       "  {'id': 73,\n",
       "   'title': 'unitId',\n",
       "   'value': '',\n",
       "   'values': [{'id': 345,\n",
       "     'params': [{'id': 230,\n",
       "       'title': 'Feature',\n",
       "       'value': '',\n",
       "       'values': [{'id': 4931, 'title': 'Publish item'},\n",
       "        {'id': 4932, 'title': 'Edit item'}]}],\n",
       "     'title': 'SellerX'},\n",
       "    {'id': 346,\n",
       "     'params': [{'id': 261,\n",
       "       'title': 'Feature',\n",
       "       'value': '',\n",
       "       'values': [{'id': 4894, 'title': 'Authorize user'},\n",
       "        {'id': 4896, 'title': 'Restore password'}]}],\n",
       "     'title': 'Trust&Safety'}]},\n",
       "  {'id': 122,\n",
       "   'title': 'Platform',\n",
       "   'value': '',\n",
       "   'values': [{'id': 644,\n",
       "     'params': [{'id': 1271,\n",
       "       'title': 'Test type',\n",
       "       'value': '',\n",
       "       'values': [{'id': 7197, 'title': 'UI'},\n",
       "        {'id': 7199, 'title': 'Business'}]}],\n",
       "     'title': 'Android'},\n",
       "    {'id': 646,\n",
       "     'params': [{'id': 1373,\n",
       "       'title': 'Test type',\n",
       "       'value': '',\n",
       "       'values': [{'id': 7201, 'title': 'UI'},\n",
       "        {'id': 7204, 'title': 'Business'}]}],\n",
       "     'title': 'iOS'}]},\n",
       "  {'id': 421,\n",
       "   'title': 'Priority',\n",
       "   'value': '',\n",
       "   'values': [{'id': 877, 'title': 'High'}, {'id': 879, 'title': 'Low'}]},\n",
       "  {'id': 2128,\n",
       "   'title': 'Tags',\n",
       "   'value': '',\n",
       "   'values': [{'id': 3624, 'title': 'develop'},\n",
       "    {'id': 3627, 'title': 'production'}]}]}"
      ]
     },
     "execution_count": 6,
     "metadata": {},
     "output_type": "execute_result"
    }
   ],
   "source": [
    "fill_data(data_v,data_r)"
   ]
  },
  {
   "cell_type": "code",
   "execution_count": null,
   "metadata": {},
   "outputs": [],
   "source": []
  }
 ],
 "metadata": {
  "kernelspec": {
   "display_name": "Python 3",
   "language": "python",
   "name": "python3"
  },
  "language_info": {
   "codemirror_mode": {
    "name": "ipython",
    "version": 3
   },
   "file_extension": ".py",
   "mimetype": "text/x-python",
   "name": "python",
   "nbconvert_exporter": "python",
   "pygments_lexer": "ipython3",
   "version": "3.5.2"
  }
 },
 "nbformat": 4,
 "nbformat_minor": 2
}
